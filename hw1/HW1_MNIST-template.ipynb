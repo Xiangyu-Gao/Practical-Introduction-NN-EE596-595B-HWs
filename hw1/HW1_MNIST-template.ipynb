{
 "cells": [
  {
   "cell_type": "code",
   "execution_count": 1,
   "metadata": {},
   "outputs": [],
   "source": [
    "import tensorflow as tf\n",
    "old_v = tf.logging.get_verbosity()\n",
    "tf.logging.set_verbosity(tf.logging.ERROR)"
   ]
  },
  {
   "cell_type": "markdown",
   "metadata": {},
   "source": [
    "<h2>Extract MNIST data</h2>\n",
    "<p style=\"font-size:20px\">You can change the option of one_hot encoding."
   ]
  },
  {
   "cell_type": "code",
   "execution_count": 2,
   "metadata": {},
   "outputs": [
    {
     "name": "stdout",
     "output_type": "stream",
     "text": [
      "Extracting MNIST_data/train-images-idx3-ubyte.gz\n",
      "Extracting MNIST_data/train-labels-idx1-ubyte.gz\n",
      "Extracting MNIST_data/t10k-images-idx3-ubyte.gz\n",
      "Extracting MNIST_data/t10k-labels-idx1-ubyte.gz\n"
     ]
    }
   ],
   "source": [
    "from tensorflow.examples.tutorials.mnist import input_data\n",
    "#get mnist data, with one_hot encoding\n",
    "mnist = input_data.read_data_sets(\"MNIST_data/\",one_hot=True)\n",
    "#suppress warnings\n",
    "tf.logging.set_verbosity(old_v)"
   ]
  },
  {
   "cell_type": "code",
   "execution_count": 3,
   "metadata": {},
   "outputs": [
    {
     "name": "stdout",
     "output_type": "stream",
     "text": [
      "[0. 0. 0. 0. 0. 0. 0. 1. 0. 0.]\n"
     ]
    }
   ],
   "source": [
    "#you can print out the label for 1st figure\n",
    "print(mnist.train.labels[0])"
   ]
  },
  {
   "cell_type": "code",
   "execution_count": 4,
   "metadata": {},
   "outputs": [],
   "source": [
    "num_train = mnist.train.num_examples #55,000\n",
    "num_validation = mnist.validation.num_examples #5000\n",
    "num_test = mnist.test.num_examples #10,000"
   ]
  },
  {
   "cell_type": "code",
   "execution_count": 5,
   "metadata": {},
   "outputs": [
    {
     "name": "stdout",
     "output_type": "stream",
     "text": [
      "55000\n",
      "5000\n",
      "10000\n"
     ]
    }
   ],
   "source": [
    "print(num_train)\n",
    "print(num_validation)\n",
    "print(num_test)"
   ]
  },
  {
   "cell_type": "markdown",
   "metadata": {},
   "source": [
    "<h2>Try different parameter combinations</h2>"
   ]
  },
  {
   "cell_type": "code",
   "execution_count": 13,
   "metadata": {},
   "outputs": [],
   "source": [
    "lr_set = [0.01,0.001]\n",
    "num_steps_set = [500,1000,1500]\n",
    "batch_size_set = [64,128,256]\n",
    "n_hidden_1_set = [200,300,400]"
   ]
  },
  {
   "cell_type": "code",
   "execution_count": 14,
   "metadata": {},
   "outputs": [
    {
     "name": "stdout",
     "output_type": "stream",
     "text": [
      "lr:0.010000,num_steps:500,batch_size=64,n_hidden_1=200,Testing ACcuracy:0.824200\n",
      "lr:0.010000,num_steps:500,batch_size=64,n_hidden_1=300,Testing ACcuracy:0.865000\n",
      "lr:0.010000,num_steps:500,batch_size=64,n_hidden_1=400,Testing ACcuracy:0.852100\n",
      "lr:0.010000,num_steps:500,batch_size=128,n_hidden_1=200,Testing ACcuracy:0.874000\n",
      "lr:0.010000,num_steps:500,batch_size=128,n_hidden_1=300,Testing ACcuracy:0.884500\n",
      "lr:0.010000,num_steps:500,batch_size=128,n_hidden_1=400,Testing ACcuracy:0.863400\n",
      "lr:0.010000,num_steps:500,batch_size=256,n_hidden_1=200,Testing ACcuracy:0.871400\n",
      "lr:0.010000,num_steps:500,batch_size=256,n_hidden_1=300,Testing ACcuracy:0.866900\n",
      "lr:0.010000,num_steps:500,batch_size=256,n_hidden_1=400,Testing ACcuracy:0.880500\n",
      "lr:0.010000,num_steps:1000,batch_size=64,n_hidden_1=200,Testing ACcuracy:0.877300\n",
      "lr:0.010000,num_steps:1000,batch_size=64,n_hidden_1=300,Testing ACcuracy:0.854600\n",
      "lr:0.010000,num_steps:1000,batch_size=64,n_hidden_1=400,Testing ACcuracy:0.851200\n",
      "lr:0.010000,num_steps:1000,batch_size=128,n_hidden_1=200,Testing ACcuracy:0.868200\n",
      "lr:0.010000,num_steps:1000,batch_size=128,n_hidden_1=300,Testing ACcuracy:0.867900\n",
      "lr:0.010000,num_steps:1000,batch_size=128,n_hidden_1=400,Testing ACcuracy:0.862600\n",
      "lr:0.010000,num_steps:1000,batch_size=256,n_hidden_1=200,Testing ACcuracy:0.884700\n",
      "lr:0.010000,num_steps:1000,batch_size=256,n_hidden_1=300,Testing ACcuracy:0.871800\n",
      "lr:0.010000,num_steps:1000,batch_size=256,n_hidden_1=400,Testing ACcuracy:0.863700\n",
      "lr:0.010000,num_steps:1500,batch_size=64,n_hidden_1=200,Testing ACcuracy:0.844800\n",
      "lr:0.010000,num_steps:1500,batch_size=64,n_hidden_1=300,Testing ACcuracy:0.868800\n",
      "lr:0.010000,num_steps:1500,batch_size=64,n_hidden_1=400,Testing ACcuracy:0.857400\n",
      "lr:0.010000,num_steps:1500,batch_size=128,n_hidden_1=200,Testing ACcuracy:0.882400\n",
      "lr:0.010000,num_steps:1500,batch_size=128,n_hidden_1=300,Testing ACcuracy:0.872100\n",
      "lr:0.010000,num_steps:1500,batch_size=128,n_hidden_1=400,Testing ACcuracy:0.874900\n",
      "lr:0.010000,num_steps:1500,batch_size=256,n_hidden_1=200,Testing ACcuracy:0.874200\n",
      "lr:0.010000,num_steps:1500,batch_size=256,n_hidden_1=300,Testing ACcuracy:0.868900\n",
      "lr:0.010000,num_steps:1500,batch_size=256,n_hidden_1=400,Testing ACcuracy:0.874500\n",
      "lr:0.001000,num_steps:500,batch_size=64,n_hidden_1=200,Testing ACcuracy:0.830000\n",
      "lr:0.001000,num_steps:500,batch_size=64,n_hidden_1=300,Testing ACcuracy:0.841300\n",
      "lr:0.001000,num_steps:500,batch_size=64,n_hidden_1=400,Testing ACcuracy:0.842200\n",
      "lr:0.001000,num_steps:500,batch_size=128,n_hidden_1=200,Testing ACcuracy:0.828000\n",
      "lr:0.001000,num_steps:500,batch_size=128,n_hidden_1=300,Testing ACcuracy:0.839400\n",
      "lr:0.001000,num_steps:500,batch_size=128,n_hidden_1=400,Testing ACcuracy:0.846400\n",
      "lr:0.001000,num_steps:500,batch_size=256,n_hidden_1=200,Testing ACcuracy:0.831300\n",
      "lr:0.001000,num_steps:500,batch_size=256,n_hidden_1=300,Testing ACcuracy:0.838900\n",
      "lr:0.001000,num_steps:500,batch_size=256,n_hidden_1=400,Testing ACcuracy:0.843000\n",
      "lr:0.001000,num_steps:1000,batch_size=64,n_hidden_1=200,Testing ACcuracy:0.859100\n",
      "lr:0.001000,num_steps:1000,batch_size=64,n_hidden_1=300,Testing ACcuracy:0.858100\n",
      "lr:0.001000,num_steps:1000,batch_size=64,n_hidden_1=400,Testing ACcuracy:0.863400\n",
      "lr:0.001000,num_steps:1000,batch_size=128,n_hidden_1=200,Testing ACcuracy:0.861300\n",
      "lr:0.001000,num_steps:1000,batch_size=128,n_hidden_1=300,Testing ACcuracy:0.866600\n",
      "lr:0.001000,num_steps:1000,batch_size=128,n_hidden_1=400,Testing ACcuracy:0.860500\n",
      "lr:0.001000,num_steps:1000,batch_size=256,n_hidden_1=200,Testing ACcuracy:0.861600\n",
      "lr:0.001000,num_steps:1000,batch_size=256,n_hidden_1=300,Testing ACcuracy:0.862500\n",
      "lr:0.001000,num_steps:1000,batch_size=256,n_hidden_1=400,Testing ACcuracy:0.866300\n",
      "lr:0.001000,num_steps:1500,batch_size=64,n_hidden_1=200,Testing ACcuracy:0.862400\n",
      "lr:0.001000,num_steps:1500,batch_size=64,n_hidden_1=300,Testing ACcuracy:0.858000\n",
      "lr:0.001000,num_steps:1500,batch_size=64,n_hidden_1=400,Testing ACcuracy:0.859300\n",
      "lr:0.001000,num_steps:1500,batch_size=128,n_hidden_1=200,Testing ACcuracy:0.859000\n",
      "lr:0.001000,num_steps:1500,batch_size=128,n_hidden_1=300,Testing ACcuracy:0.865300\n",
      "lr:0.001000,num_steps:1500,batch_size=128,n_hidden_1=400,Testing ACcuracy:0.876600\n",
      "lr:0.001000,num_steps:1500,batch_size=256,n_hidden_1=200,Testing ACcuracy:0.861600\n",
      "lr:0.001000,num_steps:1500,batch_size=256,n_hidden_1=300,Testing ACcuracy:0.866600\n",
      "lr:0.001000,num_steps:1500,batch_size=256,n_hidden_1=400,Testing ACcuracy:0.868000\n"
     ]
    }
   ],
   "source": [
    "#fixed network parameters\n",
    "num_input = 784\n",
    "num_classes = 10\n",
    "n_hidden_2 = 100\n",
    "#varied network parameters\n",
    "for lr in lr_set:\n",
    "    for num_steps in num_steps_set:\n",
    "        for batch_size in batch_size_set:\n",
    "            for n_hidden_1 in n_hidden_1_set:\n",
    "                    \n",
    "                #Define placeholder and Variables\n",
    "                tf.reset_default_graph()\n",
    "                #tf graph input\n",
    "                X = tf.placeholder(tf.float32,[None,num_input],name='X')\n",
    "                Y = tf.placeholder(tf.int32,[None,num_classes],name='Y')\n",
    "\n",
    "                #Layers weight & bias\n",
    "                weights = {\n",
    "                    'W1': tf.Variable(tf.random_normal([num_input, n_hidden_1]),name='W1'),\n",
    "                    'W2': tf.Variable(tf.random_normal([n_hidden_1, n_hidden_2]),name='W2'),\n",
    "                    'Wout': tf.Variable(tf.random_normal([n_hidden_2, num_classes]),name='Wout')\n",
    "                }\n",
    "\n",
    "                biases = {\n",
    "                    'b1': tf.Variable(tf.zeros(shape=[n_hidden_1]),name='b1'),\n",
    "                    'b2': tf.Variable(tf.zeros(shape=[n_hidden_2]),name='b2'),\n",
    "                    'bout': tf.Variable(tf.zeros(shape=[num_classes]),name='bout')\n",
    "                }\n",
    "\n",
    "                #define nueral network\n",
    "                def neural_net(x):\n",
    "                    layer_1_out = tf.add(tf.matmul(x,weights['W1']),biases['b1'])\n",
    "                    layer_2_out = tf.add(tf.matmul(layer_1_out,weights['W2']),biases['b2'])\n",
    "                    out = tf.add(tf.matmul(layer_2_out,weights['Wout']),biases['bout'])\n",
    "                    return out     \n",
    "\n",
    "                #define cost function and accuracy\n",
    "                #predicted labels\n",
    "                logits = neural_net(X)\n",
    "\n",
    "                #define loss\n",
    "                loss = tf.reduce_mean(tf.nn.softmax_cross_entropy_with_logits_v2(logits=logits,labels=Y),name='loss')\n",
    "                #define optimizer\n",
    "                optimizer = tf.train.GradientDescentOptimizer(learning_rate=lr)\n",
    "                train_op = optimizer.minimize(loss)\n",
    "\n",
    "                #compare the predicted labels with true labels\n",
    "                correct_pred = tf.equal(tf.argmax(logits,1),tf.argmax(Y,1))\n",
    "\n",
    "                #compute the accuracy by taking average\n",
    "                accuracy = tf.reduce_mean(tf.cast(correct_pred,tf.float32),name='accuracy')\n",
    "\n",
    "                #Initialize the variables\n",
    "                init = tf.global_variables_initializer()\n",
    "\n",
    "                #execute training\n",
    "                with tf.Session() as sess:\n",
    "                    sess.run(init)\n",
    "\n",
    "                    for i in range(num_steps):\n",
    "                        #fetch batch\n",
    "                        batch_x, batch_y = mnist.train.next_batch(batch_size)\n",
    "                        #run optimization\n",
    "                        sess.run(train_op, feed_dict={X:batch_x, Y:batch_y})\n",
    "                        if i % 100 ==0:\n",
    "                            acc = sess.run(accuracy,feed_dict={X:batch_x, Y:batch_y})\n",
    "                            #print(\"step \"+str(i)+\", Accuracy= {:.3f}\".format(acc))\n",
    "\n",
    "                    #print(\"Training finished\")\n",
    "\n",
    "                    print(\"lr:%f,num_steps:%d,batch_size=%d,n_hidden_1=%d,Testing ACcuracy:%f\" \\\n",
    "                          % (lr, num_steps, batch_size, n_hidden_1, \\\n",
    "                             sess.run(accuracy, feed_dict={X:mnist.test.images, Y:mnist.test.labels})))"
   ]
  },
  {
   "cell_type": "markdown",
   "metadata": {},
   "source": [
    "<h2>Your results</h2>"
   ]
  },
  {
   "cell_type": "code",
   "execution_count": 53,
   "metadata": {},
   "outputs": [
    {
     "name": "stdout",
     "output_type": "stream",
     "text": [
      "step 0, Accuracy= 0.219\n",
      "step 100, Accuracy= 0.844\n",
      "step 200, Accuracy= 0.852\n",
      "step 300, Accuracy= 0.789\n",
      "step 400, Accuracy= 0.891\n",
      "step 500, Accuracy= 0.875\n",
      "step 600, Accuracy= 0.953\n",
      "step 700, Accuracy= 0.859\n",
      "step 800, Accuracy= 0.875\n",
      "step 900, Accuracy= 0.922\n",
      "step 1000, Accuracy= 0.859\n",
      "step 1100, Accuracy= 0.836\n",
      "step 1200, Accuracy= 0.875\n",
      "step 1300, Accuracy= 0.930\n",
      "step 1400, Accuracy= 0.938\n",
      "step 1500, Accuracy= 0.930\n",
      "step 1600, Accuracy= 0.898\n",
      "step 1700, Accuracy= 0.898\n",
      "step 1800, Accuracy= 0.883\n",
      "step 1900, Accuracy= 0.938\n",
      "step 2000, Accuracy= 0.867\n",
      "step 2100, Accuracy= 0.938\n",
      "step 2200, Accuracy= 0.938\n",
      "step 2300, Accuracy= 0.945\n",
      "step 2400, Accuracy= 0.930\n",
      "step 2500, Accuracy= 0.898\n",
      "step 2600, Accuracy= 0.891\n",
      "step 2700, Accuracy= 0.961\n",
      "step 2800, Accuracy= 0.883\n",
      "step 2900, Accuracy= 0.977\n",
      "step 3000, Accuracy= 0.938\n",
      "step 3100, Accuracy= 0.922\n",
      "step 3200, Accuracy= 0.938\n",
      "step 3300, Accuracy= 0.898\n",
      "step 3400, Accuracy= 0.891\n",
      "step 3500, Accuracy= 0.953\n",
      "step 3600, Accuracy= 0.867\n",
      "step 3700, Accuracy= 0.914\n",
      "step 3800, Accuracy= 0.898\n",
      "step 3900, Accuracy= 0.906\n",
      "Training finished\n",
      "lr:0.001000,num_steps:4000,batch_size=128,n_hidden_1=1000,Testing ACcuracy:0.898100\n"
     ]
    }
   ],
   "source": [
    "#learning rate\n",
    "lr = 0.001\n",
    "#number of traning steps\n",
    "num_steps = 4000\n",
    "#number of batch_size\n",
    "batch_size = 128\n",
    "\n",
    "#network parameters\n",
    "n_hidden_1 = 1000\n",
    "n_hidden_2 = 300\n",
    "num_input = 784\n",
    "num_classes = 10\n",
    "\n",
    "#Define placeholder and Variables\n",
    "tf.reset_default_graph()\n",
    "#tf graph input\n",
    "X = tf.placeholder(tf.float32,[None,num_input],name='X')\n",
    "Y = tf.placeholder(tf.int32,[None,num_classes],name='Y')\n",
    "\n",
    "#Layers weight & bias\n",
    "weights = {\n",
    "    'W1': tf.Variable(tf.random_normal([num_input, n_hidden_1]),name='W1'),\n",
    "    'W2': tf.Variable(tf.random_normal([n_hidden_1, n_hidden_2]),name='W2'),\n",
    "    'Wout': tf.Variable(tf.random_normal([n_hidden_2, num_classes]),name='Wout')\n",
    "}\n",
    "\n",
    "biases = {\n",
    "    'b1': tf.Variable(tf.zeros(shape=[n_hidden_1]),name='b1'),\n",
    "    'b2': tf.Variable(tf.zeros(shape=[n_hidden_2]),name='b2'),\n",
    "    'bout': tf.Variable(tf.zeros(shape=[num_classes]),name='bout')\n",
    "}\n",
    "\n",
    "#define nueral network\n",
    "def neural_net(x):\n",
    "    layer_1_out = tf.add(tf.matmul(x,weights['W1']),biases['b1'])\n",
    "    layer_2_out = tf.add(tf.matmul(layer_1_out,weights['W2']),biases['b2'])\n",
    "    out = tf.add(tf.matmul(layer_2_out,weights['Wout']),biases['bout'])\n",
    "    return out     \n",
    "\n",
    "#define cost function and accuracy\n",
    "#predicted labels\n",
    "logits = neural_net(X)\n",
    "\n",
    "#define loss\n",
    "loss = tf.reduce_mean(tf.nn.softmax_cross_entropy_with_logits_v2(logits=logits,labels=Y),name='loss')\n",
    "#define optimizer\n",
    "optimizer = tf.train.GradientDescentOptimizer(learning_rate=lr)\n",
    "train_op = optimizer.minimize(loss)\n",
    "\n",
    "#compare the predicted labels with true labels\n",
    "correct_pred = tf.equal(tf.argmax(logits,1),tf.argmax(Y,1))\n",
    "\n",
    "#compute the accuracy by taking average\n",
    "accuracy = tf.reduce_mean(tf.cast(correct_pred,tf.float32),name='accuracy')\n",
    "\n",
    "#Initialize the variables\n",
    "init = tf.global_variables_initializer()\n",
    "\n",
    "#execute training\n",
    "with tf.Session() as sess:\n",
    "    sess.run(init)\n",
    "\n",
    "    for i in range(num_steps):\n",
    "        #fetch batch\n",
    "        batch_x, batch_y = mnist.train.next_batch(batch_size)\n",
    "        #run optimization\n",
    "        sess.run(train_op, feed_dict={X:batch_x, Y:batch_y})\n",
    "        if i % 100 ==0:\n",
    "            acc = sess.run(accuracy,feed_dict={X:batch_x, Y:batch_y})\n",
    "            print(\"step \"+str(i)+\", Accuracy= {:.3f}\".format(acc))\n",
    "\n",
    "    print(\"Training finished\")\n",
    "\n",
    "    print(\"lr:%f,num_steps:%d,batch_size=%d,n_hidden_1=%d,Testing ACcuracy:%f\" \\\n",
    "          % (lr, num_steps, batch_size, n_hidden_1, \\\n",
    "             sess.run(accuracy, feed_dict={X:mnist.test.images, Y:mnist.test.labels})))"
   ]
  }
 ],
 "metadata": {
  "kernelspec": {
   "display_name": "Python 3",
   "language": "python",
   "name": "python3"
  },
  "language_info": {
   "codemirror_mode": {
    "name": "ipython",
    "version": 3
   },
   "file_extension": ".py",
   "mimetype": "text/x-python",
   "name": "python",
   "nbconvert_exporter": "python",
   "pygments_lexer": "ipython3",
   "version": "3.7.3"
  }
 },
 "nbformat": 4,
 "nbformat_minor": 2
}
