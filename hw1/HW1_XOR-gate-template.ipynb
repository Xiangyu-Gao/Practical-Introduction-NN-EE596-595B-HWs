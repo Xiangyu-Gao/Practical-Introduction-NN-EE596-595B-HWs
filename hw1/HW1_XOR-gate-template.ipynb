{
 "cells": [
  {
   "cell_type": "code",
   "execution_count": 1,
   "metadata": {},
   "outputs": [],
   "source": [
    "import tensorflow as tf\n",
    "import numpy as np\n",
    "import matplotlib.pyplot as plt\n",
    "import math"
   ]
  },
  {
   "cell_type": "markdown",
   "metadata": {},
   "source": [
    "<h2>Define Hyper-parameters</h2>"
   ]
  },
  {
   "cell_type": "code",
   "execution_count": 2,
   "metadata": {},
   "outputs": [],
   "source": [
    "#define number of training iterations\n",
    "NUM_ITER = 1000000\n",
    "num_in_epoch = 10000\n",
    "#define learning rate\n",
    "lr = 1e-3"
   ]
  },
  {
   "cell_type": "markdown",
   "metadata": {},
   "source": [
    "<h2>Define your input data and expected labels</h2>"
   ]
  },
  {
   "cell_type": "code",
   "execution_count": 3,
   "metadata": {},
   "outputs": [],
   "source": [
    "#define the training input data\n",
    "x = np.array([[0,0],[1,0],[1,1],[0,1]],np.float32)\n",
    "#define the target outputs/labels for AND gate\n",
    "y = np.array([0,1,0,1],np.float32)\n",
    "#y = np.array([0,1,1,1],np.float32)       (uncomment this line if you are doing OR gate)\n",
    "y = np.reshape(y,[4,1])"
   ]
  },
  {
   "cell_type": "markdown",
   "metadata": {},
   "source": [
    "<h2>Define placeholder and Variables</h2>"
   ]
  },
  {
   "cell_type": "code",
   "execution_count": 4,
   "metadata": {},
   "outputs": [],
   "source": [
    "#define the placeholder to feed the training data later\n",
    "X = tf.placeholder(tf.float32,shape=[4,2],name='X')\n",
    "Y = tf.placeholder(tf.float32,shape=[4,1],name='Y')"
   ]
  },
  {
   "cell_type": "code",
   "execution_count": 5,
   "metadata": {},
   "outputs": [
    {
     "name": "stdout",
     "output_type": "stream",
     "text": [
      "WARNING:tensorflow:From E:\\Anaconda\\envs\\EE596B\\lib\\site-packages\\tensorflow\\python\\framework\\op_def_library.py:263: colocate_with (from tensorflow.python.framework.ops) is deprecated and will be removed in a future version.\n",
      "Instructions for updating:\n",
      "Colocations handled automatically by placer.\n"
     ]
    }
   ],
   "source": [
    "#define the weights and initialized with random normal distribution\n",
    "W1 = tf.Variable(tf.random_normal([2,2]),tf.float32,name='W1')\n",
    "W2 = tf.Variable(tf.random_normal([2,1]),tf.float32,name='W2')\n",
    "#define the bias with zero initialization\n",
    "b1 = tf.Variable(tf.zeros([1,2]),tf.float32,name='b1')\n",
    "b2 = tf.Variable(tf.zeros([1,1]),tf.float32,name='b2')"
   ]
  },
  {
   "cell_type": "markdown",
   "metadata": {},
   "source": [
    "<h2>Define Neural Network"
   ]
  },
  {
   "cell_type": "code",
   "execution_count": 6,
   "metadata": {},
   "outputs": [],
   "source": [
    "#define the predicted output label, Tensorflow doesn't have step function, we use tf.round to do that\n",
    "Y_hidden = tf.sigmoid(tf.add(tf.matmul(X,W1),b1))\n",
    "Y_hat = tf.add(tf.matmul(Y_hidden,W2),b2)\n"
   ]
  },
  {
   "cell_type": "markdown",
   "metadata": {},
   "source": [
    "<h2>Define cost function</h2>"
   ]
  },
  {
   "cell_type": "code",
   "execution_count": 7,
   "metadata": {},
   "outputs": [
    {
     "name": "stdout",
     "output_type": "stream",
     "text": [
      "WARNING:tensorflow:From E:\\Anaconda\\envs\\EE596B\\lib\\site-packages\\tensorflow\\python\\ops\\losses\\losses_impl.py:209: to_float (from tensorflow.python.ops.math_ops) is deprecated and will be removed in a future version.\n",
      "Instructions for updating:\n",
      "Use tf.cast instead.\n"
     ]
    }
   ],
   "source": [
    "#the error between target and logit\n",
    "loss = tf.losses.sigmoid_cross_entropy(Y,Y_hat)"
   ]
  },
  {
   "cell_type": "markdown",
   "metadata": {},
   "source": [
    "<h2>Execute training</h2>"
   ]
  },
  {
   "cell_type": "code",
   "execution_count": 8,
   "metadata": {
    "scrolled": false
   },
   "outputs": [],
   "source": [
    "#use standard gradient descent\n",
    "train = tf.train.GradientDescentOptimizer(lr).minimize(loss)\n",
    "#define accuracy\n",
    "accuracy = 1 - tf.to_float(tf.count_nonzero(Y-tf.round(tf.sigmoid(Y_hat))))/4.0\n",
    "#initialize tensorflow variables\n",
    "init_g = tf.global_variables_initializer()\n",
    "init_l = tf.local_variables_initializer()"
   ]
  },
  {
   "cell_type": "code",
   "execution_count": 9,
   "metadata": {},
   "outputs": [
    {
     "name": "stdout",
     "output_type": "stream",
     "text": [
      "epoch 0.0 ----loss:  0.8890112 , accuarcy:  0.5\n",
      "epoch 1.0 ----loss:  0.69740945 , accuarcy:  0.5\n",
      "epoch 2.0 ----loss:  0.6954746 , accuarcy:  0.5\n",
      "epoch 3.0 ----loss:  0.693928 , accuarcy:  0.5\n",
      "epoch 4.0 ----loss:  0.6925195 , accuarcy:  0.5\n",
      "epoch 5.0 ----loss:  0.6911278 , accuarcy:  0.5\n",
      "epoch 6.0 ----loss:  0.68966556 , accuarcy:  0.5\n",
      "epoch 7.0 ----loss:  0.68805647 , accuarcy:  0.5\n",
      "epoch 8.0 ----loss:  0.6862222 , accuarcy:  0.5\n",
      "epoch 9.0 ----loss:  0.6840772 , accuarcy:  0.5\n",
      "epoch 10.0 ----loss:  0.68152565 , accuarcy:  0.5\n",
      "epoch 11.0 ----loss:  0.6784628 , accuarcy:  0.5\n",
      "epoch 12.0 ----loss:  0.67477804 , accuarcy:  0.5\n",
      "epoch 13.0 ----loss:  0.6703666 , accuarcy:  0.5\n",
      "epoch 14.0 ----loss:  0.6651393 , accuarcy:  0.75\n",
      "epoch 15.0 ----loss:  0.659042 , accuarcy:  0.75\n",
      "epoch 16.0 ----loss:  0.6520671 , accuarcy:  0.75\n",
      "epoch 17.0 ----loss:  0.64427197 , accuarcy:  0.75\n",
      "epoch 18.0 ----loss:  0.6357708 , accuarcy:  0.75\n",
      "epoch 19.0 ----loss:  0.6267375 , accuarcy:  0.75\n",
      "epoch 20.0 ----loss:  0.6173612 , accuarcy:  0.75\n",
      "epoch 21.0 ----loss:  0.6077825 , accuarcy:  0.75\n",
      "epoch 22.0 ----loss:  0.5981542 , accuarcy:  0.75\n",
      "epoch 23.0 ----loss:  0.5884945 , accuarcy:  0.75\n",
      "epoch 24.0 ----loss:  0.5787067 , accuarcy:  0.75\n",
      "epoch 25.0 ----loss:  0.56861544 , accuarcy:  0.75\n",
      "epoch 26.0 ----loss:  0.5578803 , accuarcy:  0.75\n",
      "epoch 27.0 ----loss:  0.5460165 , accuarcy:  0.75\n",
      "epoch 28.0 ----loss:  0.5323674 , accuarcy:  0.75\n",
      "epoch 29.0 ----loss:  0.5159942 , accuarcy:  0.75\n",
      "epoch 30.0 ----loss:  0.49566114 , accuarcy:  0.75\n",
      "epoch 31.0 ----loss:  0.46985117 , accuarcy:  0.75\n",
      "epoch 32.0 ----loss:  0.43737176 , accuarcy:  0.75\n",
      "epoch 33.0 ----loss:  0.3983374 , accuarcy:  1.0\n",
      "epoch 34.0 ----loss:  0.35486978 , accuarcy:  1.0\n",
      "epoch 35.0 ----loss:  0.31057075 , accuarcy:  1.0\n",
      "epoch 36.0 ----loss:  0.26914424 , accuarcy:  1.0\n",
      "epoch 37.0 ----loss:  0.23275778 , accuarcy:  1.0\n",
      "epoch 38.0 ----loss:  0.20207578 , accuarcy:  1.0\n",
      "epoch 39.0 ----loss:  0.17674506 , accuarcy:  1.0\n",
      "epoch 40.0 ----loss:  0.15596566 , accuarcy:  1.0\n",
      "epoch 41.0 ----loss:  0.13888526 , accuarcy:  1.0\n",
      "epoch 42.0 ----loss:  0.12474857 , accuarcy:  1.0\n",
      "epoch 43.0 ----loss:  0.112941965 , accuarcy:  1.0\n",
      "epoch 44.0 ----loss:  0.102989286 , accuarcy:  1.0\n",
      "epoch 45.0 ----loss:  0.09452227 , accuarcy:  1.0\n",
      "epoch 46.0 ----loss:  0.08724299 , accuarcy:  1.0\n",
      "epoch 47.0 ----loss:  0.08093021 , accuarcy:  1.0\n",
      "epoch 48.0 ----loss:  0.075427994 , accuarcy:  1.0\n",
      "epoch 49.0 ----loss:  0.07057646 , accuarcy:  1.0\n",
      "epoch 50.0 ----loss:  0.06628467 , accuarcy:  1.0\n",
      "epoch 51.0 ----loss:  0.062457267 , accuarcy:  1.0\n",
      "epoch 52.0 ----loss:  0.059030555 , accuarcy:  1.0\n",
      "epoch 53.0 ----loss:  0.05593899 , accuarcy:  1.0\n",
      "epoch 54.0 ----loss:  0.053149723 , accuarcy:  1.0\n",
      "epoch 55.0 ----loss:  0.050609816 , accuarcy:  1.0\n",
      "epoch 56.0 ----loss:  0.048283532 , accuarcy:  1.0\n",
      "epoch 57.0 ----loss:  0.046154566 , accuarcy:  1.0\n",
      "epoch 58.0 ----loss:  0.044210665 , accuarcy:  1.0\n",
      "epoch 59.0 ----loss:  0.042420123 , accuarcy:  1.0\n",
      "epoch 60.0 ----loss:  0.04075596 , accuarcy:  1.0\n",
      "epoch 61.0 ----loss:  0.039227307 , accuarcy:  1.0\n",
      "epoch 62.0 ----loss:  0.03775706 , accuarcy:  1.0\n",
      "epoch 63.0 ----loss:  0.03642275 , accuarcy:  1.0\n",
      "epoch 64.0 ----loss:  0.035199787 , accuarcy:  1.0\n",
      "epoch 65.0 ----loss:  0.03403681 , accuarcy:  1.0\n",
      "epoch 66.0 ----loss:  0.032929793 , accuarcy:  1.0\n",
      "epoch 67.0 ----loss:  0.031880535 , accuarcy:  1.0\n",
      "epoch 68.0 ----loss:  0.03091265 , accuarcy:  1.0\n",
      "epoch 69.0 ----loss:  0.029995725 , accuarcy:  1.0\n",
      "epoch 70.0 ----loss:  0.029158067 , accuarcy:  1.0\n",
      "epoch 71.0 ----loss:  0.02834867 , accuarcy:  1.0\n",
      "epoch 72.0 ----loss:  0.02757059 , accuarcy:  1.0\n",
      "epoch 73.0 ----loss:  0.026854955 , accuarcy:  1.0\n",
      "epoch 74.0 ----loss:  0.026176987 , accuarcy:  1.0\n",
      "epoch 75.0 ----loss:  0.02552753 , accuarcy:  1.0\n",
      "epoch 76.0 ----loss:  0.024894617 , accuarcy:  1.0\n",
      "epoch 77.0 ----loss:  0.024279468 , accuarcy:  1.0\n",
      "epoch 78.0 ----loss:  0.02371105 , accuarcy:  1.0\n",
      "epoch 79.0 ----loss:  0.02316326 , accuarcy:  1.0\n",
      "epoch 80.0 ----loss:  0.022634089 , accuarcy:  1.0\n",
      "epoch 81.0 ----loss:  0.022143053 , accuarcy:  1.0\n",
      "epoch 82.0 ----loss:  0.021681398 , accuarcy:  1.0\n",
      "epoch 83.0 ----loss:  0.021238644 , accuarcy:  1.0\n",
      "epoch 84.0 ----loss:  0.020811679 , accuarcy:  1.0\n",
      "epoch 85.0 ----loss:  0.020394377 , accuarcy:  1.0\n",
      "epoch 86.0 ----loss:  0.019989949 , accuarcy:  1.0\n",
      "epoch 87.0 ----loss:  0.01959488 , accuarcy:  1.0\n",
      "epoch 88.0 ----loss:  0.01920735 , accuarcy:  1.0\n",
      "epoch 89.0 ----loss:  0.01882768 , accuarcy:  1.0\n",
      "epoch 90.0 ----loss:  0.01845551 , accuarcy:  1.0\n",
      "epoch 91.0 ----loss:  0.018094078 , accuarcy:  1.0\n",
      "epoch 92.0 ----loss:  0.017756052 , accuarcy:  1.0\n",
      "epoch 93.0 ----loss:  0.017443728 , accuarcy:  1.0\n",
      "epoch 94.0 ----loss:  0.017157383 , accuarcy:  1.0\n",
      "epoch 95.0 ----loss:  0.016886503 , accuarcy:  1.0\n",
      "epoch 96.0 ----loss:  0.016619869 , accuarcy:  1.0\n",
      "epoch 97.0 ----loss:  0.016357401 , accuarcy:  1.0\n",
      "epoch 98.0 ----loss:  0.016099056 , accuarcy:  1.0\n",
      "epoch 99.0 ----loss:  0.015851574 , accuarcy:  1.0\n"
     ]
    }
   ],
   "source": [
    "#start tensorflow session\n",
    "with tf.Session() as sess:\n",
    "    #run initialization\n",
    "    sess.run(init_g)\n",
    "    sess.run(init_l)\n",
    "    #training for number of iterations\n",
    "    for i in range(NUM_ITER):\n",
    "        #every iteration we run optimization on the training data X and labels Y\n",
    "        sess.run(train,feed_dict = {X:x,Y:y})\n",
    "\n",
    "        if i % num_in_epoch == 0:\n",
    "            accu = sess.run(accuracy,feed_dict = {X:x,Y:y})\n",
    "            los_train = sess.run(loss,feed_dict = {X:x,Y:y})\n",
    "            print('epoch',i/num_in_epoch,'----loss: ',los_train,', accuarcy: ',accu)\n",
    "    \n",
    "    Y_HAT = sess.run(Y_hat,feed_dict = {X:x,Y:y})   \n",
    "    #after training, we acquire the weight and bias\n",
    "    #np.squeeze plays a role to get rid of the redundant dimension [i.e.make (2,1) be (2,)]\n",
    "    Weight1 = np.squeeze(sess.run(W1))\n",
    "    Weight2 = np.squeeze(sess.run(W2))\n",
    "    bias1 = np.squeeze(sess.run(b1))\n",
    "    bias2 = np.squeeze(sess.run(b2))\n"
   ]
  },
  {
   "cell_type": "markdown",
   "metadata": {},
   "source": [
    "<h2> State of weights"
   ]
  },
  {
   "cell_type": "code",
   "execution_count": 10,
   "metadata": {
    "scrolled": true
   },
   "outputs": [
    {
     "name": "stdout",
     "output_type": "stream",
     "text": [
      "W1:\n",
      "[[ 6.5811973  5.498783 ]\n",
      " [-6.479562  -5.8196526]]\n",
      "W2\n",
      "[-9.300846   9.9306135]\n",
      "b1\n",
      "[ 3.3180118 -2.9221098]\n",
      "b2\n",
      "4.2991543\n",
      "Y_hat:\n",
      "[[-4.1693783]\n",
      " [ 4.227742 ]\n",
      " [-4.333784 ]\n",
      " [ 3.9227686]]\n",
      "accuracy\n",
      "[[0.]\n",
      " [1.]\n",
      " [0.]\n",
      " [1.]]\n"
     ]
    }
   ],
   "source": [
    "    print('W1:')\n",
    "    print(Weight1)\n",
    "    print('W2')\n",
    "    print(Weight2)\n",
    "    print('b1')\n",
    "    print(bias1)\n",
    "    print('b2')\n",
    "    print(bias2)\n",
    "    \n",
    "    print('Y_hat:')\n",
    "    print(Y_HAT)\n",
    "\n",
    "    print('accuracy')\n",
    "    print(np.round(1/(1 + np.exp(-Y_HAT))))"
   ]
  },
  {
   "cell_type": "markdown",
   "metadata": {},
   "source": [
    "<h2>Plot</h2>"
   ]
  },
  {
   "cell_type": "code",
   "execution_count": 21,
   "metadata": {},
   "outputs": [
    {
     "name": "stdout",
     "output_type": "stream",
     "text": [
      "3.3180118\n"
     ]
    }
   ],
   "source": [
    "#plot out the decision line determined by learned weight and bias\n",
    "import matplotlib.pyplot as plt\n",
    "plot_x = np.array([np.min(x[:, 0] - 0.2), np.max(x[:, 1]+0.2)])\n",
    "plot_y1 = 1 / Weight1[1,0] * (-Weight1[0,0] * plot_x - bias1[0])\n",
    "plot_y2 = 1 / Weight1[1,1] * (-Weight1[0,1] * plot_x - bias1[1])"
   ]
  },
  {
   "cell_type": "code",
   "execution_count": 22,
   "metadata": {},
   "outputs": [
    {
     "data": {
      "image/png": "[encoded data removed]",
      "text/plain": [
       "<Figure size 432x288 with 1 Axes>"
      ]
     },
     "metadata": {
      "needs_background": "light"
     },
     "output_type": "display_data"
    }
   ],
   "source": [
    "plt.scatter(x[:, 0], x[:, 1], c=np.squeeze(y), s=100, cmap='viridis')\n",
    "plt.plot(plot_x, plot_y1, color='k', linewidth=2)\n",
    "plt.plot(plot_x, plot_y2, color='k', linewidth=2)\n",
    "plt.xlim([-0.2, 1.2]); plt.ylim([-0.2, 1.25]);\n",
    "plt.show()"
   ]
  },
  {
   "cell_type": "code",
   "execution_count": null,
   "metadata": {},
   "outputs": [],
   "source": []
  }
 ],
 "metadata": {
  "kernelspec": {
   "display_name": "Python 3",
   "language": "python",
   "name": "python3"
  },
  "language_info": {
   "codemirror_mode": {
    "name": "ipython",
    "version": 3
   },
   "file_extension": ".py",
   "mimetype": "text/x-python",
   "name": "python",
   "nbconvert_exporter": "python",
   "pygments_lexer": "ipython3",
   "version": "3.7.3"
  }
 },
 "nbformat": 4,
 "nbformat_minor": 2
}
