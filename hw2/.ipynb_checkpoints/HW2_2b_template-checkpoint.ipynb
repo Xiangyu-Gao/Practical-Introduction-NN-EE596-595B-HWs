{
 "cells": [
  {
   "cell_type": "code",
   "execution_count": 1,
   "metadata": {},
   "outputs": [],
   "source": [
    "import tensorflow as tf\n",
    "import pickle\n",
    "import numpy as np\n",
    "import timeit\n",
    "import time\n",
    "import load_cifar\n",
    "from sklearn.metrics import roc_auc_score, accuracy_score\n",
    "from scipy.sparse import csr_matrix"
   ]
  },
  {
   "cell_type": "code",
   "execution_count": 2,
   "metadata": {},
   "outputs": [],
   "source": [
    "tf.reset_default_graph()"
   ]
  },
  {
   "cell_type": "code",
   "execution_count": 3,
   "metadata": {},
   "outputs": [],
   "source": [
    "def next_batch(num, data, labels):\n",
    "    '''\n",
    "    Return a total of `num` random samples and labels. \n",
    "    '''\n",
    "    idx = np.arange(0 , len(data))\n",
    "    np.random.shuffle(idx)\n",
    "    idx = idx[:num]\n",
    "    data_shuffle = [data[i] for i in idx]\n",
    "    labels_shuffle = [labels[i] for i in idx]\n",
    "    data_shuffle = np.asarray(data_shuffle)\n",
    "    labels_shuffle = np.asarray(labels_shuffle)\n",
    "    labels_shuffle = np.squeeze(labels_shuffle)\n",
    "    return data_shuffle, labels_shuffle"
   ]
  },
  {
   "cell_type": "markdown",
   "metadata": {},
   "source": [
    "<h1>Define Hyper-perparmeter</h1>"
   ]
  },
  {
   "cell_type": "code",
   "execution_count": 15,
   "metadata": {},
   "outputs": [],
   "source": [
    "num_classes = 10\n",
    "num_features = 3072\n",
    "num_output = 10\n",
    "num_layers_0 = 500\n",
    "num_layers_1 = 40\n",
    "starter_learning_rate = 0.01\n",
    "regularizer_rate = 0\n",
    "batch_size = 2056\n",
    "epochs = 100\n",
    "dropout_prob = 0.8\n",
    "training_accuracy = []\n",
    "validation_accuracy = []\n",
    "training_loss = []\n",
    "testing_accuracy = []"
   ]
  },
  {
   "cell_type": "code",
   "execution_count": 5,
   "metadata": {},
   "outputs": [],
   "source": [
    "#### EXAMPLE, FEEL FREE TO CHANGE #####\n",
    "valid_features, valid_labels = pickle.load(open('vali_data.pickle','rb'))\n",
    "training_features,training_labels = pickle.load(open('train_data.pickle','rb'))\n",
    "test_features, test_labels = pickle.load(open('test_data.pickle','rb'))"
   ]
  },
  {
   "cell_type": "code",
   "execution_count": 6,
   "metadata": {},
   "outputs": [],
   "source": [
    "valid_labels = np.squeeze(valid_labels.todense())\n",
    "training_labels = np.squeeze(training_labels.todense())\n",
    "test_labels = np.squeeze(test_labels.todense())"
   ]
  },
  {
   "cell_type": "code",
   "execution_count": 7,
   "metadata": {},
   "outputs": [
    {
     "name": "stdout",
     "output_type": "stream",
     "text": [
      "(40000, 10)\n",
      "[[0. 1. 0. 0. 0. 0. 0. 0. 0. 0.]]\n",
      "(40000, 3072)\n"
     ]
    }
   ],
   "source": [
    "print(training_labels.shape)\n",
    "print(training_labels[0])\n",
    "print(training_features.shape)"
   ]
  },
  {
   "cell_type": "code",
   "execution_count": 8,
   "metadata": {},
   "outputs": [
    {
     "name": "stdout",
     "output_type": "stream",
     "text": [
      "[0.1372549  0.10588235 0.09803922 0.10196078 0.09411765 0.08627451\n",
      " 0.09019608 0.09803922 0.09803922 0.09411765 0.10196078 0.09803922\n",
      " 0.30980392 0.45098039 0.44313725 0.45490196 0.45882353 0.4627451\n",
      " 0.49019608 0.50980392 0.44705882 0.42745098 0.4745098  0.47843137\n",
      " 0.54117647 0.49411765 0.54117647 0.55686275 0.50588235 0.51764706\n",
      " 0.52156863 0.49411765 0.24705882 0.1254902  0.06666667 0.08235294\n",
      " 0.09411765 0.09019608 0.09019608 0.09019608 0.09019608 0.09019608\n",
      " 0.09019608 0.08627451 0.36078431 0.50980392 0.48627451 0.49803922\n",
      " 0.54117647 0.54117647 0.42352941 0.4627451  0.5372549  0.5254902\n",
      " 0.52941176 0.54117647 0.5372549  0.51372549 0.52941176 0.4745098\n",
      " 0.43137255 0.4        0.41176471 0.39215686 0.38823529 0.19215686\n",
      " 0.05882353 0.07843137 0.09411765 0.09411765 0.09019608 0.09803922\n",
      " 0.10980392 0.10980392 0.09803922 0.10196078 0.39215686 0.5254902\n",
      " 0.46666667 0.42745098 0.53333333 0.54117647 0.39215686 0.4627451\n",
      " 0.56078431 0.54901961 0.57254902 0.60392157 0.5254902  0.55294118\n",
      " 0.56078431 0.42745098 0.22352941 0.18039216 0.20392157 0.20392157\n",
      " 0.43529412 0.2745098  0.14901961 0.12156863]\n"
     ]
    }
   ],
   "source": [
    "print(training_features[0,0:100])"
   ]
  },
  {
   "cell_type": "markdown",
   "metadata": {},
   "source": [
    "<h1>Define Placeholder</h1>"
   ]
  },
  {
   "cell_type": "code",
   "execution_count": 9,
   "metadata": {},
   "outputs": [],
   "source": [
    "# Placeholders for the input data\n",
    "input_X = tf.placeholder('float32',shape =(None,num_features),name=\"input_X\")\n",
    "input_y = tf.placeholder('float32',shape = (None,num_classes),name=\"input_Y\")\n",
    "## for dropout layer\n",
    "keep_prob = tf.placeholder(tf.float32)\n"
   ]
  },
  {
   "cell_type": "code",
   "execution_count": 10,
   "metadata": {},
   "outputs": [
    {
     "name": "stdout",
     "output_type": "stream",
     "text": [
      "WARNING:tensorflow:From C:\\Users\\Xiangyu Gao\\AppData\\Local\\conda\\conda\\envs\\ee596b\\lib\\site-packages\\tensorflow\\python\\framework\\op_def_library.py:263: colocate_with (from tensorflow.python.framework.ops) is deprecated and will be removed in a future version.\n",
      "Instructions for updating:\n",
      "Colocations handled automatically by placer.\n"
     ]
    }
   ],
   "source": [
    "## Weights initialized by random normal function with std_dev = 1/sqrt(number of input features)\n",
    "weights_0 = tf.Variable(tf.random_normal([num_features,num_layers_0], stddev=(1/tf.sqrt(float(num_features)))))\n",
    "bias_0 = tf.Variable(tf.random_normal([num_layers_0]))\n",
    "weights_1 = tf.Variable(tf.random_normal([num_layers_0,num_layers_1], stddev=(1/tf.sqrt(float(num_layers_0)))))\n",
    "bias_1 = tf.Variable(tf.random_normal([num_layers_1]))\n",
    "weights_2 = tf.Variable(tf.random_normal([num_layers_1,num_classes], stddev=(1/tf.sqrt(float(num_layers_1)))))\n",
    "bias_2 = tf.Variable(tf.random_normal([num_classes]))"
   ]
  },
  {
   "cell_type": "markdown",
   "metadata": {},
   "source": [
    "<h1>Define Neural Network Architecture</h1>"
   ]
  },
  {
   "cell_type": "code",
   "execution_count": 11,
   "metadata": {},
   "outputs": [
    {
     "name": "stdout",
     "output_type": "stream",
     "text": [
      "WARNING:tensorflow:From <ipython-input-11-1192d6a08a97>:3: calling dropout (from tensorflow.python.ops.nn_ops) with keep_prob is deprecated and will be removed in a future version.\n",
      "Instructions for updating:\n",
      "Please use `rate` instead of `keep_prob`. Rate should be set to `rate = 1 - keep_prob`.\n"
     ]
    }
   ],
   "source": [
    "## Initializing weigths and biases\n",
    "hidden_output_0 = tf.nn.relu(tf.matmul(input_X,weights_0) + bias_0)\n",
    "hidden_output_0_0 = tf.nn.dropout(hidden_output_0, keep_prob)\n",
    "hidden_output_1 = tf.nn.relu(tf.matmul(hidden_output_0_0,weights_1) + bias_1)\n",
    "hidden_output_1_1 = tf.nn.dropout(hidden_output_1, keep_prob)\n",
    "predicted_y = tf.matmul(hidden_output_1_1,weights_2) + bias_2"
   ]
  },
  {
   "cell_type": "markdown",
   "metadata": {},
   "source": [
    "<h1>Define cost and optimization</h1>"
   ]
  },
  {
   "cell_type": "code",
   "execution_count": 17,
   "metadata": {},
   "outputs": [],
   "source": [
    "## Defining the loss function\n",
    "loss = tf.reduce_mean(tf.nn.softmax_cross_entropy_with_logits_v2(logits=predicted_y,labels=input_y)) \\\n",
    "        + regularizer_rate*(tf.reduce_sum(tf.square(bias_0)) + tf.reduce_sum(tf.square(bias_1)) \\\n",
    "                           + tf.reduce_sum(tf.square(bias_2)))\n",
    "## Variable learning rate\n",
    "#learning_rate = tf.train.exponential_decay(starter_learning_rate, 0, 5, 0.85, staircase=True)\n",
    "learning_rate = starter_learning_rate\n",
    "optimizer = tf.train.AdamOptimizer(learning_rate).minimize(loss)\n",
    "correct_prediction = tf.equal(tf.argmax(input_y,1), tf.argmax(predicted_y,1))\n",
    "accuracy = tf.reduce_mean(tf.cast(correct_prediction, tf.float32))"
   ]
  },
  {
   "cell_type": "markdown",
   "metadata": {},
   "source": [
    "<h1>Training and testing</h1>\n",
    "<h2>1.Print out validation accuracy after each training poch</h2>\n",
    "<h2>2.Print out training time you spend on each epoch</h2>\n",
    "<h2>3.Print out testing accuracy in the end</h2>"
   ]
  },
  {
   "cell_type": "code",
   "execution_count": 18,
   "metadata": {},
   "outputs": [
    {
     "name": "stdout",
     "output_type": "stream",
     "text": [
      "Epoch:0, Train time: 2.563 Train loss: 2.32 Train acc: 0.120,         Validation acc:0.129\n",
      "Epoch:1, Train time: 2.420 Train loss: 2.10 Train acc: 0.226,         Validation acc:0.236\n",
      "Epoch:2, Train time: 2.357 Train loss: 1.99 Train acc: 0.292,         Validation acc:0.267\n",
      "Epoch:3, Train time: 2.369 Train loss: 1.96 Train acc: 0.283,         Validation acc:0.277\n",
      "Epoch:4, Train time: 2.390 Train loss: 1.94 Train acc: 0.299,         Validation acc:0.287\n",
      "Epoch:5, Train time: 2.465 Train loss: 1.93 Train acc: 0.287,         Validation acc:0.287\n",
      "Epoch:6, Train time: 2.372 Train loss: 1.89 Train acc: 0.280,         Validation acc:0.283\n",
      "Epoch:7, Train time: 2.412 Train loss: 1.89 Train acc: 0.287,         Validation acc:0.292\n",
      "Epoch:8, Train time: 2.390 Train loss: 1.83 Train acc: 0.344,         Validation acc:0.317\n",
      "Epoch:9, Train time: 2.375 Train loss: 1.84 Train acc: 0.329,         Validation acc:0.321\n",
      "Epoch:10, Train time: 2.388 Train loss: 1.84 Train acc: 0.326,         Validation acc:0.319\n",
      "Epoch:11, Train time: 2.440 Train loss: 1.82 Train acc: 0.308,         Validation acc:0.315\n",
      "Epoch:12, Train time: 2.369 Train loss: 1.80 Train acc: 0.352,         Validation acc:0.326\n",
      "Epoch:13, Train time: 2.381 Train loss: 1.80 Train acc: 0.357,         Validation acc:0.324\n",
      "Epoch:14, Train time: 2.401 Train loss: 1.83 Train acc: 0.335,         Validation acc:0.319\n",
      "Epoch:15, Train time: 2.367 Train loss: 1.77 Train acc: 0.369,         Validation acc:0.346\n",
      "Epoch:16, Train time: 2.385 Train loss: 1.78 Train acc: 0.361,         Validation acc:0.336\n",
      "Epoch:17, Train time: 2.413 Train loss: 1.76 Train acc: 0.365,         Validation acc:0.352\n",
      "Epoch:18, Train time: 2.358 Train loss: 1.82 Train acc: 0.343,         Validation acc:0.330\n",
      "Epoch:19, Train time: 2.405 Train loss: 1.79 Train acc: 0.324,         Validation acc:0.326\n",
      "Epoch:20, Train time: 2.405 Train loss: 1.77 Train acc: 0.355,         Validation acc:0.339\n",
      "Epoch:21, Train time: 2.376 Train loss: 1.77 Train acc: 0.370,         Validation acc:0.358\n",
      "Epoch:22, Train time: 2.362 Train loss: 1.76 Train acc: 0.358,         Validation acc:0.361\n",
      "Epoch:23, Train time: 2.419 Train loss: 1.74 Train acc: 0.364,         Validation acc:0.368\n",
      "Epoch:24, Train time: 2.410 Train loss: 1.72 Train acc: 0.379,         Validation acc:0.361\n",
      "Epoch:25, Train time: 2.357 Train loss: 1.76 Train acc: 0.351,         Validation acc:0.362\n",
      "Epoch:26, Train time: 2.405 Train loss: 1.77 Train acc: 0.349,         Validation acc:0.354\n",
      "Epoch:27, Train time: 2.380 Train loss: 1.72 Train acc: 0.384,         Validation acc:0.368\n",
      "Epoch:28, Train time: 2.421 Train loss: 1.74 Train acc: 0.377,         Validation acc:0.367\n",
      "Epoch:29, Train time: 2.350 Train loss: 1.76 Train acc: 0.357,         Validation acc:0.337\n",
      "Epoch:30, Train time: 2.379 Train loss: 1.74 Train acc: 0.375,         Validation acc:0.365\n",
      "Epoch:31, Train time: 2.391 Train loss: 1.71 Train acc: 0.396,         Validation acc:0.371\n",
      "Epoch:32, Train time: 2.446 Train loss: 1.72 Train acc: 0.387,         Validation acc:0.370\n",
      "Epoch:33, Train time: 2.425 Train loss: 1.74 Train acc: 0.380,         Validation acc:0.369\n",
      "Epoch:34, Train time: 2.434 Train loss: 1.73 Train acc: 0.366,         Validation acc:0.365\n",
      "Epoch:35, Train time: 2.348 Train loss: 1.69 Train acc: 0.393,         Validation acc:0.372\n",
      "Epoch:36, Train time: 2.370 Train loss: 1.73 Train acc: 0.368,         Validation acc:0.362\n",
      "Epoch:37, Train time: 2.355 Train loss: 2.43 Train acc: 0.114,         Validation acc:0.101\n",
      "Epoch:38, Train time: 2.398 Train loss: 2.34 Train acc: 0.092,         Validation acc:0.094\n",
      "Epoch:39, Train time: 2.421 Train loss: 2.22 Train acc: 0.137,         Validation acc:0.118\n",
      "Epoch:40, Train time: 2.442 Train loss: 2.17 Train acc: 0.154,         Validation acc:0.146\n",
      "Epoch:41, Train time: 2.364 Train loss: 2.13 Train acc: 0.196,         Validation acc:0.189\n",
      "Epoch:42, Train time: 2.387 Train loss: 2.13 Train acc: 0.192,         Validation acc:0.183\n",
      "Epoch:43, Train time: 2.373 Train loss: 2.11 Train acc: 0.215,         Validation acc:0.207\n",
      "Epoch:44, Train time: 2.412 Train loss: 2.08 Train acc: 0.217,         Validation acc:0.212\n",
      "Epoch:45, Train time: 2.408 Train loss: 2.07 Train acc: 0.209,         Validation acc:0.196\n",
      "Epoch:46, Train time: 2.441 Train loss: 2.05 Train acc: 0.227,         Validation acc:0.227\n",
      "Epoch:47, Train time: 2.383 Train loss: 2.06 Train acc: 0.207,         Validation acc:0.210\n",
      "Epoch:48, Train time: 2.420 Train loss: 2.04 Train acc: 0.243,         Validation acc:0.227\n",
      "Epoch:49, Train time: 2.390 Train loss: 2.01 Train acc: 0.236,         Validation acc:0.233\n",
      "Epoch:50, Train time: 2.393 Train loss: 2.03 Train acc: 0.246,         Validation acc:0.231\n",
      "Epoch:51, Train time: 2.529 Train loss: 2.01 Train acc: 0.238,         Validation acc:0.232\n",
      "Epoch:52, Train time: 2.388 Train loss: 2.02 Train acc: 0.238,         Validation acc:0.236\n",
      "Epoch:53, Train time: 2.372 Train loss: 1.92 Train acc: 0.272,         Validation acc:0.269\n",
      "Epoch:54, Train time: 2.364 Train loss: 1.93 Train acc: 0.308,         Validation acc:0.305\n",
      "Epoch:55, Train time: 2.393 Train loss: 1.88 Train acc: 0.293,         Validation acc:0.300\n",
      "Epoch:56, Train time: 2.397 Train loss: 1.82 Train acc: 0.344,         Validation acc:0.334\n",
      "Epoch:57, Train time: 2.495 Train loss: 1.83 Train acc: 0.345,         Validation acc:0.331\n",
      "Epoch:58, Train time: 2.369 Train loss: 1.83 Train acc: 0.353,         Validation acc:0.330\n",
      "Epoch:59, Train time: 2.390 Train loss: 1.77 Train acc: 0.349,         Validation acc:0.350\n",
      "Epoch:60, Train time: 2.365 Train loss: 1.78 Train acc: 0.366,         Validation acc:0.347\n",
      "Epoch:61, Train time: 2.410 Train loss: 1.77 Train acc: 0.359,         Validation acc:0.344\n",
      "Epoch:62, Train time: 2.390 Train loss: 1.79 Train acc: 0.358,         Validation acc:0.347\n",
      "Epoch:63, Train time: 2.482 Train loss: 1.75 Train acc: 0.369,         Validation acc:0.360\n",
      "Epoch:64, Train time: 2.389 Train loss: 1.77 Train acc: 0.367,         Validation acc:0.354\n",
      "Epoch:65, Train time: 2.384 Train loss: 1.74 Train acc: 0.363,         Validation acc:0.363\n",
      "Epoch:66, Train time: 2.376 Train loss: 1.74 Train acc: 0.383,         Validation acc:0.371\n",
      "Epoch:67, Train time: 2.365 Train loss: 1.71 Train acc: 0.397,         Validation acc:0.379\n",
      "Epoch:68, Train time: 2.394 Train loss: 1.73 Train acc: 0.397,         Validation acc:0.368\n",
      "Epoch:69, Train time: 2.504 Train loss: 1.71 Train acc: 0.380,         Validation acc:0.381\n",
      "Epoch:70, Train time: 2.435 Train loss: 1.70 Train acc: 0.399,         Validation acc:0.386\n",
      "Epoch:71, Train time: 2.395 Train loss: 1.70 Train acc: 0.403,         Validation acc:0.376\n",
      "Epoch:72, Train time: 2.356 Train loss: 1.71 Train acc: 0.378,         Validation acc:0.383\n",
      "Epoch:73, Train time: 2.404 Train loss: 1.68 Train acc: 0.395,         Validation acc:0.386\n",
      "Epoch:74, Train time: 2.442 Train loss: 1.70 Train acc: 0.393,         Validation acc:0.359\n",
      "Epoch:75, Train time: 2.496 Train loss: 1.69 Train acc: 0.411,         Validation acc:0.378\n",
      "Epoch:76, Train time: 2.407 Train loss: 1.69 Train acc: 0.405,         Validation acc:0.377\n",
      "Epoch:77, Train time: 2.404 Train loss: 1.67 Train acc: 0.413,         Validation acc:0.396\n",
      "Epoch:78, Train time: 2.390 Train loss: 1.66 Train acc: 0.416,         Validation acc:0.382\n",
      "Epoch:79, Train time: 2.362 Train loss: 1.69 Train acc: 0.413,         Validation acc:0.382\n",
      "Epoch:80, Train time: 2.428 Train loss: 1.68 Train acc: 0.406,         Validation acc:0.388\n",
      "Epoch:81, Train time: 2.384 Train loss: 1.64 Train acc: 0.415,         Validation acc:0.390\n",
      "Epoch:82, Train time: 2.440 Train loss: 1.65 Train acc: 0.390,         Validation acc:0.385\n",
      "Epoch:83, Train time: 2.380 Train loss: 1.65 Train acc: 0.412,         Validation acc:0.394\n",
      "Epoch:84, Train time: 2.397 Train loss: 1.65 Train acc: 0.423,         Validation acc:0.397\n",
      "Epoch:85, Train time: 2.378 Train loss: 1.68 Train acc: 0.403,         Validation acc:0.381\n",
      "Epoch:86, Train time: 2.452 Train loss: 1.66 Train acc: 0.402,         Validation acc:0.392\n",
      "Epoch:87, Train time: 2.405 Train loss: 1.65 Train acc: 0.403,         Validation acc:0.388\n",
      "Epoch:88, Train time: 2.474 Train loss: 1.66 Train acc: 0.394,         Validation acc:0.391\n",
      "Epoch:89, Train time: 2.394 Train loss: 1.67 Train acc: 0.420,         Validation acc:0.391\n"
     ]
    },
    {
     "name": "stdout",
     "output_type": "stream",
     "text": [
      "Epoch:90, Train time: 2.378 Train loss: 1.64 Train acc: 0.412,         Validation acc:0.389\n",
      "Epoch:91, Train time: 2.356 Train loss: 1.63 Train acc: 0.426,         Validation acc:0.400\n",
      "Epoch:92, Train time: 2.429 Train loss: 1.63 Train acc: 0.401,         Validation acc:0.385\n",
      "Epoch:93, Train time: 2.383 Train loss: 1.66 Train acc: 0.410,         Validation acc:0.402\n",
      "Epoch:94, Train time: 2.472 Train loss: 1.66 Train acc: 0.429,         Validation acc:0.405\n",
      "Epoch:95, Train time: 2.410 Train loss: 1.62 Train acc: 0.424,         Validation acc:0.403\n",
      "Epoch:96, Train time: 2.377 Train loss: 1.65 Train acc: 0.409,         Validation acc:0.402\n",
      "Epoch:97, Train time: 2.377 Train loss: 1.64 Train acc: 0.405,         Validation acc:0.409\n",
      "Epoch:98, Train time: 2.404 Train loss: 1.63 Train acc: 0.433,         Validation acc:0.401\n",
      "Epoch:99, Train time: 2.329 Train loss: 1.66 Train acc: 0.441,         Validation acc:0.405\n",
      "testing accuracy is:  0.4263\n"
     ]
    }
   ],
   "source": [
    "with tf.Session() as s:\n",
    "    s.run(tf.global_variables_initializer())\n",
    "    for epoch in range(epochs): \n",
    "        start_time = time.time()\n",
    "        for index in range(0,60000,batch_size):\n",
    "            batch_x, batch_y = next_batch(batch_size, training_features, training_labels)\n",
    "            s.run(optimizer, feed_dict={input_X:batch_x, input_y:batch_y, keep_prob:dropout_prob})\n",
    "        use_time = time.time() - start_time\n",
    "        training_accuracy.append(s.run(accuracy, feed_dict= {input_X:batch_x, \n",
    "                                                             input_y:batch_y,keep_prob:1}))\n",
    "        training_loss.append(s.run(loss, {input_X: batch_x, \n",
    "                                          input_y: batch_y,keep_prob:1}))\n",
    "\n",
    "        # Evaluation of model\n",
    "        validation_accuracy.append(s.run(accuracy, feed_dict= {input_X:valid_features, \\\n",
    "                                                               input_y:valid_labels,keep_prob:1}))\n",
    "        #print(s.run(accuracy, feed_dict= {input_X:valid_features, input_y:valid_labels,keep_prob:1}))\n",
    "        print(\"Epoch:{0}, Train time: {1:.3f} Train loss: {2:.2f} Train acc: {3:.3f}, \\\n",
    "        Validation acc:{4:.3f}\".format(epoch, use_time, training_loss[epoch], training_accuracy[epoch], \\\n",
    "                              validation_accuracy[epoch]))\n",
    "    test_accuracy = accuracy_score(test_labels.argmax(1), s.run(predicted_y, {input_X: test_features, keep_prob:1}).argmax(1))\n",
    "    print('testing accuracy is: ', test_accuracy)"
   ]
  }
 ],
 "metadata": {
  "kernelspec": {
   "display_name": "Python 3",
   "language": "python",
   "name": "python3"
  },
  "language_info": {
   "codemirror_mode": {
    "name": "ipython",
    "version": 3
   },
   "file_extension": ".py",
   "mimetype": "text/x-python",
   "name": "python",
   "nbconvert_exporter": "python",
   "pygments_lexer": "ipython3",
   "version": "3.7.3"
  }
 },
 "nbformat": 4,
 "nbformat_minor": 2
}
